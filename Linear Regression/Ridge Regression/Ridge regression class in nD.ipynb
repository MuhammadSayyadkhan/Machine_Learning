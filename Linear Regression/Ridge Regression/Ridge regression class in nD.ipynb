{
 "cells": [
  {
   "cell_type": "code",
   "execution_count": 50,
   "id": "b2019f59",
   "metadata": {},
   "outputs": [],
   "source": [
    "import numpy as np\n",
    "from sklearn.datasets import load_diabetes\n",
    "from sklearn.metrics import r2_score,mean_squared_error"
   ]
  },
  {
   "cell_type": "code",
   "execution_count": 2,
   "id": "f9bb1559",
   "metadata": {},
   "outputs": [],
   "source": [
    "X,y = load_diabetes(return_X_y=True)"
   ]
  },
  {
   "cell_type": "code",
   "execution_count": 6,
   "id": "bb11d1d4",
   "metadata": {},
   "outputs": [],
   "source": [
    "from sklearn.model_selection import train_test_split\n",
    "X_train,X_test,y_train,y_test = train_test_split(X,y,test_size=0.2,random_state=40)"
   ]
  },
  {
   "cell_type": "code",
   "execution_count": 35,
   "id": "88f7f830",
   "metadata": {},
   "outputs": [
    {
     "name": "stdout",
     "output_type": "stream",
     "text": [
      "sgd regressor coefficient =  [  67.31225693  -31.49442445  252.14591979  183.82722513   18.85775891\n",
      "   -9.49837022 -151.15842419  122.89521772  231.78216891  119.67768936] \n",
      "sgd intercept =  [150.92819524]\n"
     ]
    },
    {
     "name": "stderr",
     "output_type": "stream",
     "text": [
      "d:\\anaconda\\envs\\tf-env\\Lib\\site-packages\\sklearn\\linear_model\\_stochastic_gradient.py:1608: ConvergenceWarning: Maximum number of iteration reached before convergence. Consider increasing max_iter to improve the fit.\n",
      "  warnings.warn(\n"
     ]
    }
   ],
   "source": [
    "from sklearn.linear_model import SGDRegressor\n",
    "sr = SGDRegressor()\n",
    "sr.fit(X_train,y_train)\n",
    "print(\"sgd regressor coefficient = \",sr.coef_,\"\\nsgd intercept = \",sr.intercept_)"
   ]
  },
  {
   "cell_type": "code",
   "execution_count": 46,
   "id": "07697786",
   "metadata": {},
   "outputs": [
    {
     "name": "stdout",
     "output_type": "stream",
     "text": [
      "trainig accuracy =  0.4430535947804666\n",
      "testing accuracy  =  0.35469982556317436\n"
     ]
    }
   ],
   "source": [
    "# check the accuracy\n",
    "y_prd = sr.predict(X_train)\n",
    "acc = r2_score(y_train,y_prd)\n",
    "print(\"trainig accuracy = \",acc)\n",
    "y_prd = sr.predict(X_test)\n",
    "acc = r2_score(y_test,y_prd)\n",
    "print(\"testing accuracy  = \",acc)"
   ]
  },
  {
   "cell_type": "markdown",
   "id": "067b2266",
   "metadata": {},
   "source": [
    "- the above model is ovefitted training accuracy is highh and testing accuracy is low\n",
    "- we need to solve this problem by Ridge regularization"
   ]
  },
  {
   "cell_type": "code",
   "execution_count": 12,
   "id": "6037050b",
   "metadata": {},
   "outputs": [],
   "source": [
    "from sklearn.linear_model import Ridge\n",
    "rr = Ridge(alpha=10)"
   ]
  },
  {
   "cell_type": "code",
   "execution_count": null,
   "id": "d4191f3d",
   "metadata": {},
   "outputs": [
    {
     "name": "stdout",
     "output_type": "stream",
     "text": [
      "[ 21.81185062  -0.06346961  62.7390674   48.89821462  13.51848506\n",
      "   7.76657314 -41.50704482  39.05188947  60.37886044  37.13435524]\n",
      "150.82996454596062\n"
     ]
    }
   ],
   "source": [
    "# train the class\n",
    "rr.fit(X_train,y_train)\n",
    "print(rr.coef_)\n",
    "print(rr.intercept_)"
   ]
  },
  {
   "cell_type": "code",
   "execution_count": 53,
   "id": "46a8ff2e",
   "metadata": {},
   "outputs": [
    {
     "name": "stdout",
     "output_type": "stream",
     "text": [
      "check training accuracy using ridge regression 0.17047899078317308\n",
      "check training accuracy using ridge regression 69.2901075478363\n",
      "check training accuracy using ridge regression 0.1337857412142912\n",
      "check training accuracy using ridge regression 74.78858734440306\n"
     ]
    }
   ],
   "source": [
    "# check the accuracy after using ridge regression\n",
    "y_pred = rr.predict(X_train)\n",
    "print(\"check training accuracy using ridge regression\",r2_score(y_train,y_pred))\n",
    "print(\"check training accuracy using ridge regression\",np.sqrt(mean_squared_error(y_train,y_pred)))\n",
    "y_pred = rr.predict(X_test)\n",
    "print(\"check training accuracy using ridge regression\",r2_score(y_test,y_pred))\n",
    "print(\"check training accuracy using ridge regression\",np.sqrt(mean_squared_error(y_test,y_pred)))"
   ]
  },
  {
   "cell_type": "markdown",
   "id": "9f2f1fcb",
   "metadata": {},
   "source": [
    "# Ridge regression class for nD"
   ]
  },
  {
   "cell_type": "code",
   "execution_count": 9,
   "id": "7af2da0a",
   "metadata": {},
   "outputs": [],
   "source": [
    "class RidgeRegression:\n",
    "    def __init__(self, learning_rate=0.01, n_iters=1000, alpha=1.0):\n",
    "        self.learning_rate = learning_rate\n",
    "        self.n_iters = n_iters\n",
    "        self.alpha = alpha      # Regularization term\n",
    "        self.weights = None\n",
    "        self.bias = None\n",
    "\n",
    "    def fit(self, X, y):\n",
    "        n_samples, n_features = X.shape\n",
    "        self.weights = np.zeros(n_features)\n",
    "        self.bias = 0\n",
    "\n",
    "        for _ in range(self.n_iters):\n",
    "            y_predicted = np.dot(X, self.weights) + self.bias\n",
    "            \n",
    "            # Gradient calculation with Ridge penalty\n",
    "            dw = (1/n_samples) * (np.dot(X.T, (y_predicted - y)) + self.alpha * self.weights)\n",
    "            db = (1/n_samples) * np.sum(y_predicted - y)\n",
    "            \n",
    "            # Update rule\n",
    "            self.weights -= self.learning_rate * dw\n",
    "            self.bias -= self.learning_rate * db\n",
    "        print(self.weights)\n",
    "        print(self.bias)\n",
    "\n",
    "    def predict(self, X):\n",
    "        return np.dot(X, self.weights) + self.bias\n"
   ]
  },
  {
   "cell_type": "code",
   "execution_count": 27,
   "id": "9e68b4d2",
   "metadata": {},
   "outputs": [
    {
     "name": "stdout",
     "output_type": "stream",
     "text": [
      "[ 21.43243184   0.47722641  60.57513619  47.43880591  13.65095566\n",
      "   8.17421337 -40.33657308  38.28313922  58.49599112  36.35385671]\n",
      "150.8292285094429\n"
     ]
    }
   ],
   "source": [
    "my_rr = RidgeRegression(learning_rate=0.1,n_iters=1000,alpha=10)\n",
    "my_rr.fit(X_train,y_train)"
   ]
  },
  {
   "cell_type": "code",
   "execution_count": 32,
   "id": "4f6dc680",
   "metadata": {},
   "outputs": [
    {
     "name": "stdout",
     "output_type": "stream",
     "text": [
      "144.2449855044347\n",
      "144.0014739456853\n"
     ]
    }
   ],
   "source": [
    "prd = my_rr.predict(X_test)\n",
    "print(prd[0])\n",
    "# prediction on builten class\n",
    "prd1 = rr.predict(X_test)\n",
    "print(prd1[0])"
   ]
  },
  {
   "cell_type": "code",
   "execution_count": null,
   "id": "c4b02c02",
   "metadata": {},
   "outputs": [],
   "source": []
  }
 ],
 "metadata": {
  "kernelspec": {
   "display_name": "tf-env",
   "language": "python",
   "name": "python3"
  },
  "language_info": {
   "codemirror_mode": {
    "name": "ipython",
    "version": 3
   },
   "file_extension": ".py",
   "mimetype": "text/x-python",
   "name": "python",
   "nbconvert_exporter": "python",
   "pygments_lexer": "ipython3",
   "version": "3.12.9"
  }
 },
 "nbformat": 4,
 "nbformat_minor": 5
}

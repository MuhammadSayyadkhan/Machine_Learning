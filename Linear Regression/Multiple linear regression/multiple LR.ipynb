{
 "cells": [
  {
   "cell_type": "code",
   "execution_count": 105,
   "id": "a7ca0a75",
   "metadata": {},
   "outputs": [],
   "source": [
    "import numpy as np\n",
    "import pandas as pd\n"
   ]
  },
  {
   "cell_type": "code",
   "execution_count": 106,
   "id": "579444da",
   "metadata": {},
   "outputs": [],
   "source": [
    "# load data\n",
    "df = pd.read_csv(r\"C:\\Users\\BM LAPTOP\\Downloads\\cgpa_iq_salary.csv\")"
   ]
  },
  {
   "cell_type": "code",
   "execution_count": 107,
   "id": "41ea4d92",
   "metadata": {},
   "outputs": [
    {
     "data": {
      "text/plain": [
       "array([[  1. ,   3.2, 110. ],\n",
       "       [  1. ,   2.8,  95. ],\n",
       "       [  1. ,   3.6, 120. ],\n",
       "       [  1. ,   3. , 100. ],\n",
       "       [  1. ,   2.9,  98. ],\n",
       "       [  1. ,   3.7, 130. ],\n",
       "       [  1. ,   3.1, 105. ],\n",
       "       [  1. ,   2.7,  92. ],\n",
       "       [  1. ,   3.5, 118. ],\n",
       "       [  1. ,   3.3, 112. ],\n",
       "       [  1. ,   3.4, 115. ],\n",
       "       [  1. ,   2.5,  90. ],\n",
       "       [  1. ,   3.8, 135. ],\n",
       "       [  1. ,   3. ,  99. ],\n",
       "       [  1. ,   2.6,  88. ],\n",
       "       [  1. ,   3.9, 140. ],\n",
       "       [  1. ,   3.2, 107. ],\n",
       "       [  1. ,   3.6, 125. ],\n",
       "       [  1. ,   3.1, 104. ],\n",
       "       [  1. ,   2.9,  96. ],\n",
       "       [  1. ,   3.7, 128. ],\n",
       "       [  1. ,   3. , 101. ],\n",
       "       [  1. ,   3.5, 117. ],\n",
       "       [  1. ,   3.8, 133. ],\n",
       "       [  1. ,   2.8,  93. ],\n",
       "       [  1. ,   3.9, 138. ],\n",
       "       [  1. ,   3.3, 110. ],\n",
       "       [  1. ,   3.4, 114. ],\n",
       "       [  1. ,   2.7,  91. ],\n",
       "       [  1. ,   3.6, 121. ],\n",
       "       [  1. ,   3. ,  98. ],\n",
       "       [  1. ,   3.2, 108. ],\n",
       "       [  1. ,   2.5,  87. ],\n",
       "       [  1. ,   3.7, 129. ],\n",
       "       [  1. ,   3.1, 106. ],\n",
       "       [  1. ,   3.9, 139. ],\n",
       "       [  1. ,   3.5, 119. ],\n",
       "       [  1. ,   2.6,  89. ],\n",
       "       [  1. ,   3.8, 136. ],\n",
       "       [  1. ,   3.3, 111. ],\n",
       "       [  1. ,   2.9,  94. ],\n",
       "       [  1. ,   3.4, 113. ],\n",
       "       [  1. ,   3.2, 109. ],\n",
       "       [  1. ,   2.8,  90. ],\n",
       "       [  1. ,   3.6, 122. ],\n",
       "       [  1. ,   3. ,  97. ],\n",
       "       [  1. ,   3.7, 127. ],\n",
       "       [  1. ,   3.1, 103. ],\n",
       "       [  1. ,   2.7,  89. ],\n",
       "       [  1. ,   3.9, 137. ]])"
      ]
     },
     "execution_count": 107,
     "metadata": {},
     "output_type": "execute_result"
    }
   ],
   "source": [
    "X = df.iloc[:,:2].values\n",
    "y = df.iloc[:,2].values\n",
    "teta = np.array([1,2,3])\n",
    "ones = np.ones(50)\n",
    "X = np.insert(X,0,ones,axis=1)\n",
    "X"
   ]
  },
  {
   "cell_type": "code",
   "execution_count": 108,
   "id": "ab40c983",
   "metadata": {},
   "outputs": [],
   "source": [
    "def prediction(x,teta):\n",
    "    return np.dot(x,teta.T)"
   ]
  },
  {
   "cell_type": "code",
   "execution_count": null,
   "id": "84e17afc",
   "metadata": {},
   "outputs": [],
   "source": []
  },
  {
   "cell_type": "code",
   "execution_count": null,
   "id": "0a59b9dd",
   "metadata": {},
   "outputs": [],
   "source": []
  },
  {
   "cell_type": "code",
   "execution_count": 110,
   "id": "347fcf05",
   "metadata": {},
   "outputs": [],
   "source": [
    "# cost function\n",
    "def cost_function(y,prd):\n",
    "    m = y.shape[0]\n",
    "    loss = np.sum(np.square(y-prd))\n",
    "    return loss/(2*m)"
   ]
  },
  {
   "cell_type": "code",
   "execution_count": 111,
   "id": "ebf8e125",
   "metadata": {},
   "outputs": [
    {
     "data": {
      "text/plain": [
       "1162721060.34"
      ]
     },
     "execution_count": 111,
     "metadata": {},
     "output_type": "execute_result"
    }
   ],
   "source": [
    "loss = cost_function(y,prd)\n",
    "loss"
   ]
  },
  {
   "cell_type": "code",
   "execution_count": 112,
   "id": "8050ed27",
   "metadata": {},
   "outputs": [
    {
     "data": {
      "text/plain": [
       "50"
      ]
     },
     "execution_count": 112,
     "metadata": {},
     "output_type": "execute_result"
    }
   ],
   "source": [
    "y.shape[0]"
   ]
  },
  {
   "cell_type": "code",
   "execution_count": 113,
   "id": "7d495670",
   "metadata": {},
   "outputs": [],
   "source": [
    "# compute gradient \n",
    "def gradient(x,prd,y):\n",
    "    m = y.shape[0]\n",
    "    grdnt = np.sum((prd-y)@x)\n",
    "    return grdnt/m"
   ]
  },
  {
   "cell_type": "code",
   "execution_count": 114,
   "id": "3c93fd17",
   "metadata": {},
   "outputs": [
    {
     "data": {
      "text/plain": [
       "-5552488.92"
      ]
     },
     "execution_count": 114,
     "metadata": {},
     "output_type": "execute_result"
    }
   ],
   "source": [
    "grdnt = gradient(X,prd,y)\n",
    "grdnt"
   ]
  },
  {
   "cell_type": "code",
   "execution_count": 115,
   "id": "03f52a3d",
   "metadata": {},
   "outputs": [],
   "source": [
    "# gradient descent\n",
    "def gradient_descent(x,y,teta,gdnt,lr):\n",
    "    m = 50\n",
    "    cost_hist = []\n",
    "    for i in range(1000):\n",
    "        pred = prediction(x,teta)\n",
    "        gdnt = gradient(x,pred,y)\n",
    "        teta = teta - lr*(gdnt/m)\n",
    "        cost = cost_function(y,prd)\n",
    "        cost_hist.append(cost)\n",
    "    return teta,cost_hist,pred\n"
   ]
  },
  {
   "cell_type": "code",
   "execution_count": 116,
   "id": "f7594fe1",
   "metadata": {},
   "outputs": [
    {
     "name": "stdout",
     "output_type": "stream",
     "text": [
      "[413.9967161 414.9967161 415.9967161]\n",
      "[47501.62497882 41095.67555086 51827.59082628 43258.65847459\n",
      " 42385.16537077 56029.05765891 45380.1417267  39806.18573094\n",
      " 50954.09772247 48375.11808264 49664.60790255 38891.19295552\n",
      " 58150.54091103 42842.66175848 38100.69919492 60272.02416315\n",
      " 46253.63483052 53907.57440679 44964.1450106  41553.17193857\n",
      " 55197.06422671 43674.65519069 50538.10100637 57318.54747883\n",
      " 40263.68211865 59440.03073095 47543.12465043 49248.61118645\n",
      " 39390.18901484 52243.58754238 42426.66504238 46669.63154662\n",
      " 37643.20280721 55613.06094281 45796.13844281 59856.02744705\n",
      " 51370.09443857 38516.69591103 58566.53762713 47959.12136654\n",
      " 40721.17850636 48832.61447035 47085.62826272 39015.69197035\n",
      " 52659.58425849 42010.66832628 54781.06751061 44548.1482945\n",
      " 38558.19558264 59024.03401484]\n"
     ]
    }
   ],
   "source": [
    "d,cost_his,p= gradient_descent(X,y,teta , grdnt,0.0001)\n",
    "\n",
    "print(d)\n",
    "print(p)"
   ]
  },
  {
   "cell_type": "code",
   "execution_count": 118,
   "id": "4cff94b9",
   "metadata": {},
   "outputs": [
    {
     "data": {
      "text/plain": [
       "39005.0"
      ]
     },
     "execution_count": 118,
     "metadata": {},
     "output_type": "execute_result"
    }
   ],
   "source": [
    "# give new data to get result\n",
    "prd = prediction(np.array([1,3.0,90]),np.array([413,414,415]))\n",
    "prd"
   ]
  },
  {
   "cell_type": "code",
   "execution_count": null,
   "id": "23719adf",
   "metadata": {},
   "outputs": [],
   "source": []
  }
 ],
 "metadata": {
  "kernelspec": {
   "display_name": "tf-env",
   "language": "python",
   "name": "python3"
  },
  "language_info": {
   "codemirror_mode": {
    "name": "ipython",
    "version": 3
   },
   "file_extension": ".py",
   "mimetype": "text/x-python",
   "name": "python",
   "nbconvert_exporter": "python",
   "pygments_lexer": "ipython3",
   "version": "3.12.9"
  }
 },
 "nbformat": 4,
 "nbformat_minor": 5
}
